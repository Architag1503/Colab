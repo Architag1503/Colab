{
  "cells": [
    {
      "cell_type": "markdown",
      "metadata": {
        "id": "view-in-github",
        "colab_type": "text"
      },
      "source": [
        "<a href=\"https://colab.research.google.com/github/Architag1503/Colab/blob/main/my_numpy_code_inbpy.ipynb\" target=\"_parent\"><img src=\"https://colab.research.google.com/assets/colab-badge.svg\" alt=\"Open In Colab\"/></a>"
      ]
    },
    {
      "cell_type": "code",
      "source": [
        "!git clone https://github.com/Architag1503/Colab.git\n",
        "\n",
        "%cd Colab\n",
        "\n",
        "!mv /content/my_numpy_code.py Numpy/\n",
        "\n",
        "!git config --global user.name \"Archit Gupta\"\n",
        "!git config --global user.email \"architag1503@gmail.com\"\n",
        "\n",
        "!mv /content/my_numpy_code.ipynb Numpy/\n",
        "!git add Numpy/my_numpy_code.ipynb\n",
        "!git commit -m \"Add NumPy notebook from Colab\"\n",
        "!git push origin main\n"
      ],
      "metadata": {
        "colab": {
          "base_uri": "https://localhost:8080/"
        },
        "id": "aNDqwkCwiNW6",
        "outputId": "f807c667-078c-4c67-ff49-5b7fff782b91"
      },
      "execution_count": 1,
      "outputs": [
        {
          "output_type": "stream",
          "name": "stdout",
          "text": [
            "Cloning into 'Colab'...\n",
            "remote: Enumerating objects: 12, done.\u001b[K\n",
            "remote: Counting objects: 100% (12/12), done.\u001b[K\n",
            "remote: Compressing objects: 100% (8/8), done.\u001b[K\n",
            "remote: Total 12 (delta 3), reused 10 (delta 1), pack-reused 0 (from 0)\u001b[K\n",
            "Receiving objects: 100% (12/12), done.\n",
            "Resolving deltas: 100% (3/3), done.\n",
            "/content/Colab\n",
            "mv: cannot stat '/content/my_numpy_code.py': No such file or directory\n",
            "mv: cannot stat '/content/my_numpy_code.ipynb': No such file or directory\n",
            "fatal: pathspec 'Numpy/my_numpy_code.ipynb' did not match any files\n",
            "On branch main\n",
            "Your branch is up to date with 'origin/main'.\n",
            "\n",
            "nothing to commit, working tree clean\n",
            "fatal: could not read Username for 'https://github.com': No such device or address\n"
          ]
        }
      ]
    },
    {
      "cell_type": "code",
      "source": [
        "import numpy"
      ],
      "metadata": {
        "id": "6otpp0fYh-AL"
      },
      "execution_count": null,
      "outputs": []
    },
    {
      "cell_type": "code",
      "source": [
        "import pandas"
      ],
      "metadata": {
        "id": "rT5ZkHYhiReP"
      },
      "execution_count": null,
      "outputs": []
    }
  ],
  "metadata": {
    "colab": {
      "provenance": [],
      "include_colab_link": true
    },
    "kernelspec": {
      "display_name": "Python 3",
      "name": "python3"
    }
  },
  "nbformat": 4,
  "nbformat_minor": 0
}